{
 "cells": [
  {
   "cell_type": "markdown",
   "id": "1b8b9f37-8cb8-49bc-951e-53546665906a",
   "metadata": {},
   "source": [
    "## 查看训练集"
   ]
  },
  {
   "cell_type": "code",
   "execution_count": 7,
   "id": "596b5f95-8c8e-4e14-ace4-be8e1ba9ef75",
   "metadata": {},
   "outputs": [],
   "source": [
    "from datasets import load_dataset\n",
    "dataset1=load_dataset('csv',data_files='data/train.csv')"
   ]
  },
  {
   "cell_type": "code",
   "execution_count": 24,
   "id": "37ba1a55-4fb7-4e5d-b950-0dd118a4474e",
   "metadata": {
    "scrolled": true
   },
   "outputs": [
    {
     "name": "stdout",
     "output_type": "stream",
     "text": [
      "{'DAP', '20-20', 'Urea', '14-35-14', '10-26-26', '28-28', '17-17-17'}\n",
      "['DAP', '20-20', 'Urea', '14-35-14', '10-26-26', '28-28', '17-17-17']\n",
      "{'DAP': 0, '20-20': 1, 'Urea': 2, '14-35-14': 3, '10-26-26': 4, '28-28': 5, '17-17-17': 6}\n",
      "DatasetDict({\n",
      "    train: Dataset({\n",
      "        features: ['id', 'Temparature', 'Humidity', 'Moisture', 'Soil Type', 'Crop Type', 'Nitrogen', 'Potassium', 'Phosphorous', 'Fertilizer Name'],\n",
      "        num_rows: 750000\n",
      "    })\n",
      "})\n"
     ]
    }
   ],
   "source": [
    "print(set(dataset1['train']['Fertilizer Name']))\n",
    "name_to_id={k:v for v,k in enumerate(set(dataset1['train']['Fertilizer Name']))}\n",
    "id_to_name=[v for v in set(dataset1['train']['Fertilizer Name'])]\n",
    "print(id_to_name)\n",
    "print(name_to_id)\n",
    "print(dataset1)"
   ]
  },
  {
   "cell_type": "code",
   "execution_count": 22,
   "id": "eb2fb9ea-5cc7-4497-b275-560cba4234e0",
   "metadata": {},
   "outputs": [
    {
     "data": {
      "text/plain": [
       "['DAP', '20-20', 'Urea', '14-35-14', '10-26-26', '28-28', '17-17-17']"
      ]
     },
     "execution_count": 22,
     "metadata": {},
     "output_type": "execute_result"
    }
   ],
   "source": [
    "id_to_name"
   ]
  },
  {
   "cell_type": "markdown",
   "id": "111699f6-7eb3-4e23-8651-51c0c38ca54b",
   "metadata": {},
   "source": [
    "## 查看验证集"
   ]
  },
  {
   "cell_type": "code",
   "execution_count": 13,
   "id": "2e7cf5b4-e9fe-4faa-9d50-d316cdf27543",
   "metadata": {},
   "outputs": [
    {
     "name": "stderr",
     "output_type": "stream",
     "text": [
      "Generating train split: 0 examples [00:00, ? examples/s]/home/adminad/zhangdw/workspace/uv/transformers/lib/python3.11/site-packages/datasets/download/streaming_download_manager.py:778: FutureWarning: The 'verbose' keyword in pd.read_csv is deprecated and will be removed in a future version.\n",
      "  return pd.read_csv(xopen(filepath_or_buffer, \"rb\", download_config=download_config), **kwargs)\n",
      "Generating train split: 250000 examples [00:00, 863879.44 examples/s]\n"
     ]
    }
   ],
   "source": [
    "from datasets import load_dataset\n",
    "dataset2=load_dataset('csv',data_files='data/test.csv')"
   ]
  },
  {
   "cell_type": "code",
   "execution_count": null,
   "id": "91ba9158-37f7-494a-9d47-479649e3433f",
   "metadata": {},
   "outputs": [],
   "source": []
  },
  {
   "cell_type": "code",
   "execution_count": null,
   "id": "2612a9c9-0954-4ce2-8f30-de8a001e20ea",
   "metadata": {},
   "outputs": [],
   "source": []
  },
  {
   "cell_type": "markdown",
   "id": "a20d7171-0ab9-439f-9485-3c81bda94179",
   "metadata": {},
   "source": [
    "## 尝试构造prompt进行分类训练"
   ]
  },
  {
   "cell_type": "code",
   "execution_count": 1,
   "id": "dc8859fa-2777-4dee-9f75-1adc5912f54d",
   "metadata": {},
   "outputs": [],
   "source": [
    "def generate_fertilizer_prompt(\n",
    "    temperature: float,\n",
    "    humidity: float,\n",
    "    moisture: float,\n",
    "    soil_type: str,\n",
    "    crop_type: str,\n",
    "    nitrogen: float,\n",
    "    potassium: float,\n",
    "    phosphorous: float\n",
    ") -> str:\n",
    "    \"\"\"\n",
    "    生成用于预测肥料类型的prompt\n",
    "    \n",
    "    参数:\n",
    "        temperature: 温度 (°C)\n",
    "        humidity: 湿度 (%)\n",
    "        moisture: 土壤湿度 (%)\n",
    "        soil_type: 土壤类型 (如: Sandy, Loamy, Clayey)\n",
    "        crop_type: 作物类型 (如: Wheat, Rice, Sugarcane)\n",
    "        nitrogen: 土壤氮含量 (mg/kg)\n",
    "        potassium: 土壤钾含量 (mg/kg)\n",
    "        phosphorous: 土壤磷含量 (mg/kg)\n",
    "    \n",
    "    返回:\n",
    "        格式化的prompt字符串\n",
    "    \"\"\"\n",
    "    return f\"\"\"Predict the optimal fertilizer type for the given agricultural parameters:\n",
    "\n",
    "{{\n",
    "\"Temperature\": {temperature},  # Crop environment temperature in Celsius\n",
    "\"Humidity\": {humidity},  # Relative humidity percentage\n",
    "\"Soil_Moisture\": {moisture},  # Soil moisture content percentage\n",
    "\"Soil_Type\": \"{soil_type}\",  # Soil texture (e.g., Sandy, Loamy, Clayey)\n",
    "\"Crop_Type\": \"{crop_type}\",  # Type of crop (e.g., Wheat, Rice, Sugarcane)\n",
    "\"Nitrogen\": {nitrogen},  # Soil nitrogen content in mg/kg\n",
    "\"Potassium\": {potassium},  # Soil potassium content in mg/kg\n",
    "\"Phosphorus\": {phosphorous}  # Soil phosphorus content in mg/kg\n",
    "}}\n",
    "\"\"\""
   ]
  },
  {
   "cell_type": "code",
   "execution_count": 2,
   "id": "aed1967c-e45f-40f8-b127-487d26e92194",
   "metadata": {},
   "outputs": [
    {
     "name": "stderr",
     "output_type": "stream",
     "text": [
      "/home/adminad/zhangdw/workspace/uv/transformers/lib/python3.11/site-packages/tqdm/auto.py:21: TqdmWarning: IProgress not found. Please update jupyter and ipywidgets. See https://ipywidgets.readthedocs.io/en/stable/user_install.html\n",
      "  from .autonotebook import tqdm as notebook_tqdm\n"
     ]
    }
   ],
   "source": [
    "from transformers import AutoTokenizer,AutoModelForSequenceClassification,AutoConfig"
   ]
  },
  {
   "cell_type": "code",
   "execution_count": 3,
   "id": "c4e3cea0-e6ed-42f0-a24a-ce4d12a9b624",
   "metadata": {},
   "outputs": [],
   "source": [
    "model_path=\"/data/download-model/DeepSeek-R1-0528-Qwen3-8B\"\n",
    "num_labels=7"
   ]
  },
  {
   "cell_type": "code",
   "execution_count": 4,
   "id": "9c889ac1-26fc-41dc-994d-e92d9d69345a",
   "metadata": {},
   "outputs": [],
   "source": [
    "def load_model_and_tokenizer(model_path, num_labels):\n",
    "    tokenizer = AutoTokenizer.from_pretrained(model_path)\n",
    "    config = AutoConfig.from_pretrained(model_path)\n",
    "    config.pad_token_id = tokenizer.pad_token_id\n",
    "    config.num_labels = num_labels\n",
    "    \n",
    "    model = AutoModelForSequenceClassification.from_pretrained(model_path, config=config)\n",
    "    \n",
    "    return model, tokenizer, config"
   ]
  },
  {
   "cell_type": "code",
   "execution_count": 5,
   "id": "854172f2-438b-4177-90fd-8ffe1f9d0612",
   "metadata": {},
   "outputs": [
    {
     "name": "stderr",
     "output_type": "stream",
     "text": [
      "Unrecognized keys in `rope_scaling` for 'rope_type'='yarn': {'attn_factor'}\n",
      "Loading checkpoint shards: 100%|██████████| 2/2 [00:02<00:00,  1.01s/it]\n",
      "Some weights of Qwen3ForSequenceClassification were not initialized from the model checkpoint at /data/download-model/DeepSeek-R1-0528-Qwen3-8B and are newly initialized: ['score.weight']\n",
      "You should probably TRAIN this model on a down-stream task to be able to use it for predictions and inference.\n"
     ]
    }
   ],
   "source": [
    "model,tokenizer,_=load_model_and_tokenizer(model_path,num_labels)"
   ]
  },
  {
   "cell_type": "code",
   "execution_count": 12,
   "id": "1a7d3a35-d092-4ac8-abf7-4896b78fd499",
   "metadata": {},
   "outputs": [],
   "source": [
    "from datasets import load_dataset\n",
    "dataset=load_dataset('csv',data_files='data/train.csv')"
   ]
  },
  {
   "cell_type": "code",
   "execution_count": 28,
   "id": "4d0be4c6-22a2-4fd0-80a5-f8aabec76937",
   "metadata": {},
   "outputs": [],
   "source": [
    "def tokenize_function(examples):\n",
    "    examples[\"text\"] = [\n",
    "        generate_fertilizer_prompt(\n",
    "            temp, hum, mois, soil, crop, nit, pot, phos\n",
    "        )\n",
    "        for temp, hum, mois, soil, crop, nit, pot, phos in zip(\n",
    "            examples[\"Temparature\"], examples[\"Humidity\"], examples[\"Moisture\"],\n",
    "            examples[\"Soil Type\"], examples[\"Crop Type\"], examples[\"Nitrogen\"],\n",
    "            examples[\"Potassium\"], examples[\"Phosphorous\"]\n",
    "        )\n",
    "    ]\n",
    "    import json\n",
    "    with open('mapping.json','r') as f:\n",
    "        mapping=json.load(f)\n",
    "        name_to_id=mapping['name_to_id']\n",
    "    tokenized = tokenizer(\n",
    "        examples[\"text\"],\n",
    "        padding=\"max_length\",\n",
    "        truncation=True,\n",
    "        max_length=512\n",
    "    )\n",
    "    \n",
    "    tokenized['labels']=[name_to_id[cat] for cat in examples['Fertilizer Name']]\n",
    "    \n",
    "    return tokenized"
   ]
  },
  {
   "cell_type": "code",
   "execution_count": 29,
   "id": "e042a0b4-8a11-4735-8b92-0f743fbb5d69",
   "metadata": {
    "scrolled": true
   },
   "outputs": [
    {
     "name": "stderr",
     "output_type": "stream",
     "text": [
      "Map: 100%|██████████| 750000/750000 [03:30<00:00, 3555.89 examples/s]\n"
     ]
    }
   ],
   "source": [
    "dataset = dataset.map(tokenize_function, batched=True)"
   ]
  },
  {
   "cell_type": "code",
   "execution_count": null,
   "id": "f1882de6-97f3-4063-9f4a-e2d2e0743666",
   "metadata": {},
   "outputs": [],
   "source": [
    "max_len=0\n",
    "max_id=0\n",
    "for i in range(len(dataset['train']['text'])):\n",
    "    if max_len<len(dataset['train']['text'][i]):\n",
    "        max_len=len(dataset['train']['text'][i])\n",
    "        max_id=i\n",
    "print(max_len,max_id)\n",
    "print(dataset['train']['text'][max_id])"
   ]
  },
  {
   "cell_type": "markdown",
   "id": "aabbc29e-c6e7-4d53-9cf7-b524026a67dd",
   "metadata": {},
   "source": [
    "## 推理时拿到top 3的结果"
   ]
  },
  {
   "cell_type": "code",
   "execution_count": null,
   "id": "124a3afc-c95d-493f-a02c-54ef2f53d477",
   "metadata": {
    "editable": true,
    "slideshow": {
     "slide_type": ""
    },
    "tags": []
   },
   "outputs": [],
   "source": []
  }
 ],
 "metadata": {
  "kernelspec": {
   "display_name": "transformers",
   "language": "python",
   "name": "transformers"
  },
  "language_info": {
   "codemirror_mode": {
    "name": "ipython",
    "version": 3
   },
   "file_extension": ".py",
   "mimetype": "text/x-python",
   "name": "python",
   "nbconvert_exporter": "python",
   "pygments_lexer": "ipython3",
   "version": "3.11.13"
  }
 },
 "nbformat": 4,
 "nbformat_minor": 5
}
